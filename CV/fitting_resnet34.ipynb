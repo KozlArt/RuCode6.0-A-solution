{
 "cells": [
  {
   "cell_type": "code",
   "execution_count": 139,
   "id": "e7e5dfd7",
   "metadata": {
    "cellId": "92pqf6ahmjjidrrcd8snz"
   },
   "outputs": [],
   "source": [
    "import os\n",
    "import copy\n",
    "import warnings\n",
    "\n",
    "import torch\n",
    "import random\n",
    "import pandas as pd\n",
    "import numpy  as np\n",
    "import torch.nn as nn\n",
    "from src.processing import *\n",
    "from torchvision import models\n",
    "from torch.utils.data import DataLoader\n",
    "import src.model_fitting as model_fitting\n",
    "\n",
    "warnings.filterwarnings(\"ignore\")\n",
    "\n",
    "SEED = 1234\n",
    "random.seed(SEED)\n",
    "np.random.seed(SEED)\n",
    "torch.manual_seed(SEED)\n",
    "torch.cuda.manual_seed(SEED)\n",
    "torch.backends.cudnn.enabled = False\n",
    "torch.backends.cudnn.deterministic = True"
   ]
  },
  {
   "cell_type": "code",
   "execution_count": null,
   "id": "03a342bb",
   "metadata": {
    "cellId": "xsl2s10jcck6aqn0hlr28d",
    "scrolled": true
   },
   "outputs": [],
   "source": [
    "!unzip private_dataset.zip"
   ]
  },
  {
   "cell_type": "code",
   "execution_count": 133,
   "id": "e3bb06e1",
   "metadata": {
    "cellId": "0eqy3xaiqs1nnxjylb0gz4d"
   },
   "outputs": [],
   "source": [
    "#images_amount = check_images_amount()\n",
    "\n",
    "annotations = pd.read_csv(\"annotation_file.csv\")\n",
    "annot_test = pd.read_csv(\"annotation_file_test.csv\").sort_values(by=\"id\")\n",
    "\n",
    "NEW_SIZE, BATCH_SIZE = 224, 256\n",
    "full_train = CarDataset(annotation_file=annotations, img_dir=\"train\", new_size=NEW_SIZE, mode=\"train\")\n",
    "full_train_dataloader = DataLoader(full_train, batch_size=BATCH_SIZE, shuffle=True)\n",
    "\n",
    "test_dataset = CarDataset(annotation_file=annot_test, img_dir=\"public_test\", new_size=NEW_SIZE, mode=\"test\")\n",
    "test_dataloader = DataLoader(test_dataset, batch_size=BATCH_SIZE, shuffle=False)"
   ]
  },
  {
   "cell_type": "code",
   "execution_count": 136,
   "id": "9d9f3b82",
   "metadata": {
    "cellId": "2y7hle9f75r3yugj25d946"
   },
   "outputs": [],
   "source": [
    "#!g1.1\n",
    "model = models.resnet34(pretrained=True)\n",
    "model.fc = nn.Linear(512, 11)\n",
    "model = model.cuda()\n",
    "\n",
    "torch.cuda.empty_cache()"
   ]
  },
  {
   "cell_type": "code",
   "execution_count": 137,
   "id": "9d1c7027",
   "metadata": {
    "cellId": "j6ukxnlvicmms2id03ch9o",
    "execution_id": "b090ca17-1bcc-4689-8e11-01f4f841bac9",
    "scrolled": true
   },
   "outputs": [
    {
     "name": "stdout",
     "output_type": "stream",
     "text": [
      "[0]: tr_loss: 0.27203 tr_f1: 0.91451 \n",
      "[1]: tr_loss: 0.11316 tr_f1: 0.96402 \n",
      "[2]: tr_loss: 0.08 tr_f1: 0.97453 \n",
      "[3]: tr_loss: 0.03651 tr_f1: 0.9886 \n",
      "[4]: tr_loss: 0.02224 tr_f1: 0.99319 \n",
      "[5]: tr_loss: 0.01433 tr_f1: 0.9957 \n",
      "[6]: tr_loss: 0.00719 tr_f1: 0.99797 \n",
      "[7]: tr_loss: 0.00364 tr_f1: 0.99908 \n",
      "[8]: tr_loss: 0.00297 tr_f1: 0.99933 \n",
      "[9]: tr_loss: 0.00181 tr_f1: 0.9995 \n",
      "[10]: tr_loss: 0.00142 tr_f1: 0.99957 \n",
      "[11]: tr_loss: 0.00126 tr_f1: 0.99963 \n",
      "[12]: tr_loss: 0.00076 tr_f1: 0.99988 \n",
      "[13]: tr_loss: 0.00081 tr_f1: 0.99973 \n",
      "[14]: tr_loss: 0.00068 tr_f1: 0.99983 \n",
      "[15]: tr_loss: 0.0005 tr_f1: 0.9999 \n",
      "[16]: tr_loss: 0.00062 tr_f1: 0.9999 \n",
      "[17]: tr_loss: 0.0005 tr_f1: 0.9999 \n",
      "[18]: tr_loss: 0.00057 tr_f1: 0.99988 \n",
      "[19]: tr_loss: 0.00048 tr_f1: 0.99983 \n"
     ]
    },
    {
     "name": "stderr",
     "output_type": "stream",
     "text": [
      "epoch: 100%|██████████| 20/20 [1:27:16<00:00, 261.84s/it]\n"
     ]
    }
   ],
   "source": [
    "#!g1.1\n",
    "fitting_info = model_fitting.train(full_train_dataloader, None, model=model, epochs=20, validate=False)\n",
    "\n",
    "torch.save(copy.deepcopy(model.state_dict()), 'resnet18_fitting_weights.pth')\n",
    "torch.cuda.empty_cache()"
   ]
  },
  {
   "cell_type": "code",
   "execution_count": 138,
   "id": "fe730f60",
   "metadata": {
    "cellId": "w2q6uwr09wvocu0q1q5js",
    "execution_id": "4233f4cc-8957-4984-8666-2e81d2fa83b0"
   },
   "outputs": [
    {
     "name": "stdout",
     "output_type": "stream",
     "text": [
      "=====SUBMITION DONE=====\n"
     ]
    }
   ],
   "source": [
    "#!g1.1\n",
    "inverse_target_mapping = {path_idx: path for path_idx, path in enumerate(os.listdir(\"train\"))} \n",
    "\n",
    "preds = model_fitting.predict(model, test_dataloader, inverse_target_mapping=inverse_target_mapping)\n",
    "if((len(preds) == images_amount[\"test\"]) and (len(np.unique(preds)) == 11)):\n",
    "    make_submit(\"submit8_aug\", preds)"
   ]
  },
  {
   "cell_type": "markdown",
   "id": "37412e9e",
   "metadata": {
    "cellId": "pjvt8d9s0s2u1czyhbei6",
    "execution_id": "4599d438-b085-4267-a9a9-305c0c5d892b"
   },
   "source": [
    "## private submit"
   ]
  },
  {
   "cell_type": "markdown",
   "id": "a61d797e",
   "metadata": {
    "cellId": "7qef6plxhwl4xw5800hue4"
   },
   "source": [
    "---"
   ]
  },
  {
   "cell_type": "code",
   "execution_count": 167,
   "id": "42dcf240",
   "metadata": {
    "cellId": "x8ivvn9cgfppzsq37cd0yt"
   },
   "outputs": [],
   "source": [
    "import src.make_annotation_file as annot"
   ]
  },
  {
   "cell_type": "code",
   "execution_count": 169,
   "id": "1f6e64a9",
   "metadata": {
    "cellId": "hadfgzozprnzrub1hz49a"
   },
   "outputs": [
    {
     "name": "stdout",
     "output_type": "stream",
     "text": [
      "Plese type mode(train or test)\n"
     ]
    },
    {
     "name": "stdin",
     "output_type": "stream",
     "text": [
      "> test\n"
     ]
    },
    {
     "name": "stdout",
     "output_type": "stream",
     "text": [
      "Please type annotation file name\n"
     ]
    },
    {
     "name": "stdin",
     "output_type": "stream",
     "text": [
      "> annotation_file_private\n"
     ]
    },
    {
     "name": "stdout",
     "output_type": "stream",
     "text": [
      "Please type basic directory\n"
     ]
    },
    {
     "name": "stdin",
     "output_type": "stream",
     "text": [
      "> private_test\n"
     ]
    },
    {
     "name": "stdout",
     "output_type": "stream",
     "text": [
      "=====ANNOTATION FILE CREATED=====\n"
     ]
    }
   ],
   "source": [
    "annot.make()"
   ]
  },
  {
   "cell_type": "code",
   "execution_count": 170,
   "id": "c154879a",
   "metadata": {
    "cellId": "lstg3k6gqei53ocvy7m22m"
   },
   "outputs": [],
   "source": [
    "annot_test = pd.read_csv(\"annotation_file_private.csv\").sort_values(by=\"id\")\n",
    "NEW_SIZE, BATCH_SIZE = 224, 256\n",
    "test_dataset = CarDataset(annotation_file=annot_test, img_dir=\"private_test\", new_size=NEW_SIZE, mode=\"test\")\n",
    "test_dataloader = DataLoader(test_dataset, batch_size=BATCH_SIZE, shuffle=False)"
   ]
  },
  {
   "cell_type": "code",
   "execution_count": 171,
   "id": "556f5a41",
   "metadata": {
    "cellId": "8t6jmjc0tqokazwomoku6"
   },
   "outputs": [
    {
     "name": "stderr",
     "output_type": "stream",
     "text": [
      "Downloading: \"https://download.pytorch.org/models/resnet34-b627a593.pth\" to /tmp/xdg_cache/torch/hub/checkpoints/resnet34-b627a593.pth\n"
     ]
    },
    {
     "data": {
      "application/vnd.jupyter.widget-view+json": {
       "model_id": "586d47d5c6c6457198d349aabf3a29ff",
       "version_major": 2,
       "version_minor": 0
      },
      "text/plain": [
       "HBox(children=(HTML(value=''), FloatProgress(value=0.0, max=87319819.0), HTML(value='')))"
      ]
     },
     "metadata": {},
     "output_type": "display_data"
    },
    {
     "name": "stdout",
     "output_type": "stream",
     "text": [
      "\n"
     ]
    },
    {
     "data": {
      "text/plain": [
       "<All keys matched successfully>"
      ]
     },
     "execution_count": 171,
     "metadata": {},
     "output_type": "execute_result"
    }
   ],
   "source": [
    "#!g1.1\n",
    "model = models.resnet34(pretrained=True)\n",
    "model.fc = nn.Linear(512, 11)\n",
    "model = model.cuda()\n",
    "model.load_state_dict(torch.load(\"./resnet34_fitting_weights.pth\"))"
   ]
  },
  {
   "cell_type": "code",
   "execution_count": 172,
   "id": "99bb82a4",
   "metadata": {
    "cellId": "hwxdi384xb96qsok96tze"
   },
   "outputs": [
    {
     "name": "stdout",
     "output_type": "stream",
     "text": [
      "=====SUBMITION DONE=====\n"
     ]
    }
   ],
   "source": [
    "#!g1.1\n",
    "inverse_target_mapping = {path_idx: path for path_idx, path in enumerate(os.listdir(\"train\"))} \n",
    "\n",
    "preds = model_fitting.predict(model, test_dataloader, inverse_target_mapping=inverse_target_mapping)\n",
    "if((len(preds) == len(os.listdir(\"./private_test\"))) and (len(np.unique(preds)) == 11)):\n",
    "    make_submit(\"private_submit\", preds)"
   ]
  }
 ],
 "metadata": {
  "language_info": {
   "codemirror_mode": {
    "name": "ipython",
    "version": 3
   },
   "file_extension": ".py",
   "mimetype": "text/x-python",
   "name": "python",
   "nbconvert_exporter": "python",
   "pygments_lexer": "ipython3",
   "version": "3.7.7"
  },
  "notebookId": "219f94cf-e0bb-4676-b1c8-fef98d5b36c0",
  "notebookPath": "rucodeA/fitting_resnet34.ipynb",
  "varInspector": {
   "cols": {
    "lenName": 16,
    "lenType": 16,
    "lenVar": 40
   },
   "kernels_config": {
    "python": {
     "delete_cmd_postfix": "",
     "delete_cmd_prefix": "del ",
     "library": "var_list.py",
     "varRefreshCmd": "print(var_dic_list())"
    },
    "r": {
     "delete_cmd_postfix": ") ",
     "delete_cmd_prefix": "rm(",
     "library": "var_list.r",
     "varRefreshCmd": "cat(var_dic_list()) "
    }
   },
   "types_to_exclude": [
    "module",
    "function",
    "builtin_function_or_method",
    "instance",
    "_Feature"
   ],
   "window_display": false
  }
 },
 "nbformat": 4,
 "nbformat_minor": 5
}
