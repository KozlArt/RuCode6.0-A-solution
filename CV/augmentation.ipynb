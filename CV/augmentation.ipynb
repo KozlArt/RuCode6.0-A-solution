{
 "cells": [
  {
   "cell_type": "code",
   "execution_count": 1,
   "id": "f3458765-fa49-4555-ab4d-36cd1d6add77",
   "metadata": {},
   "outputs": [],
   "source": [
    "import pandas as pd\n",
    "from tqdm import tqdm\n",
    "from os import listdir\n",
    "import Augmentor"
   ]
  },
  {
   "cell_type": "markdown",
   "id": "963a2ccf-6579-48aa-bd2d-d0ea47974bf0",
   "metadata": {},
   "source": [
    "# Аннотация для трейна"
   ]
  },
  {
   "cell_type": "code",
   "execution_count": 21,
   "id": "e29be801-9d08-42d0-8277-cea14a5473b2",
   "metadata": {},
   "outputs": [],
   "source": [
    "res = []\n",
    "target = []\n",
    "for color in listdir(\"./train_aug_2/\"):\n",
    "    for im in listdir(\"./train_aug_2/\" + color):\n",
    "        res.append(color + \"//\" + im)\n",
    "        target.append(color)\n",
    "    \n",
    "    "
   ]
  },
  {
   "cell_type": "code",
   "execution_count": 22,
   "id": "398e0de5-3b80-45ea-a2db-3b95434816e1",
   "metadata": {},
   "outputs": [],
   "source": [
    "out = pd.DataFrame()\n",
    "out[\"img_path\"] = res\n",
    "out[\"target\"] = target"
   ]
  },
  {
   "cell_type": "code",
   "execution_count": 23,
   "id": "b8c541ea-1e35-44a8-9e06-dde5b82c833b",
   "metadata": {},
   "outputs": [],
   "source": [
    "out[\"target\"] = out[\"target\"].replace({\n",
    " 'Black':0,\n",
    " 'Blue':1,\n",
    " 'Brown':2,\n",
    " 'Cyan':3,\n",
    " 'Green':4,\n",
    " 'Grey':5,\n",
    " 'Orange':6,\n",
    " 'Red':7,\n",
    " 'Violet':8,\n",
    " 'White':9,\n",
    " 'Yellow':10\n",
    "    \n",
    "})"
   ]
  },
  {
   "cell_type": "code",
   "execution_count": 24,
   "id": "98645b3d-d721-410f-9ab1-06f443c67a7d",
   "metadata": {},
   "outputs": [],
   "source": [
    "out.to_csv(\"./annotation_file.csv\", index = False)"
   ]
  },
  {
   "cell_type": "code",
   "execution_count": 25,
   "id": "8210f311-3ff7-4b4d-9c95-b7379b160fe9",
   "metadata": {},
   "outputs": [
    {
     "data": {
      "text/html": [
       "<div>\n",
       "<style scoped>\n",
       "    .dataframe tbody tr th:only-of-type {\n",
       "        vertical-align: middle;\n",
       "    }\n",
       "\n",
       "    .dataframe tbody tr th {\n",
       "        vertical-align: top;\n",
       "    }\n",
       "\n",
       "    .dataframe thead th {\n",
       "        text-align: right;\n",
       "    }\n",
       "</style>\n",
       "<table border=\"1\" class=\"dataframe\">\n",
       "  <thead>\n",
       "    <tr style=\"text-align: right;\">\n",
       "      <th></th>\n",
       "      <th>img_path</th>\n",
       "      <th>target</th>\n",
       "    </tr>\n",
       "  </thead>\n",
       "  <tbody>\n",
       "    <tr>\n",
       "      <th>0</th>\n",
       "      <td>Black//00004.jpg</td>\n",
       "      <td>0</td>\n",
       "    </tr>\n",
       "    <tr>\n",
       "      <th>1</th>\n",
       "      <td>Black//00005.jpg</td>\n",
       "      <td>0</td>\n",
       "    </tr>\n",
       "    <tr>\n",
       "      <th>2</th>\n",
       "      <td>Black//00006.jpg</td>\n",
       "      <td>0</td>\n",
       "    </tr>\n",
       "    <tr>\n",
       "      <th>3</th>\n",
       "      <td>Black//00007.jpg</td>\n",
       "      <td>0</td>\n",
       "    </tr>\n",
       "    <tr>\n",
       "      <th>4</th>\n",
       "      <td>Black//00008.jpg</td>\n",
       "      <td>0</td>\n",
       "    </tr>\n",
       "    <tr>\n",
       "      <th>...</th>\n",
       "      <td>...</td>\n",
       "      <td>...</td>\n",
       "    </tr>\n",
       "    <tr>\n",
       "      <th>39254</th>\n",
       "      <td>Yellow//Yellow_original_ffcaad9490.jpg_108c0a4...</td>\n",
       "      <td>10</td>\n",
       "    </tr>\n",
       "    <tr>\n",
       "      <th>39255</th>\n",
       "      <td>Yellow//Yellow_original_ffcaad9490.jpg_aa34ea9...</td>\n",
       "      <td>10</td>\n",
       "    </tr>\n",
       "    <tr>\n",
       "      <th>39256</th>\n",
       "      <td>Yellow//Yellow_original_ffcaad9490.jpg_c9811a1...</td>\n",
       "      <td>10</td>\n",
       "    </tr>\n",
       "    <tr>\n",
       "      <th>39257</th>\n",
       "      <td>Yellow//Yellow_original_ffe322f18a.jpg_852eeb5...</td>\n",
       "      <td>10</td>\n",
       "    </tr>\n",
       "    <tr>\n",
       "      <th>39258</th>\n",
       "      <td>Yellow//Yellow_original_ffe322f18a.jpg_9269944...</td>\n",
       "      <td>10</td>\n",
       "    </tr>\n",
       "  </tbody>\n",
       "</table>\n",
       "<p>39259 rows × 2 columns</p>\n",
       "</div>"
      ],
      "text/plain": [
       "                                                img_path  target\n",
       "0                                       Black//00004.jpg       0\n",
       "1                                       Black//00005.jpg       0\n",
       "2                                       Black//00006.jpg       0\n",
       "3                                       Black//00007.jpg       0\n",
       "4                                       Black//00008.jpg       0\n",
       "...                                                  ...     ...\n",
       "39254  Yellow//Yellow_original_ffcaad9490.jpg_108c0a4...      10\n",
       "39255  Yellow//Yellow_original_ffcaad9490.jpg_aa34ea9...      10\n",
       "39256  Yellow//Yellow_original_ffcaad9490.jpg_c9811a1...      10\n",
       "39257  Yellow//Yellow_original_ffe322f18a.jpg_852eeb5...      10\n",
       "39258  Yellow//Yellow_original_ffe322f18a.jpg_9269944...      10\n",
       "\n",
       "[39259 rows x 2 columns]"
      ]
     },
     "execution_count": 25,
     "metadata": {},
     "output_type": "execute_result"
    }
   ],
   "source": [
    "out"
   ]
  },
  {
   "cell_type": "markdown",
   "id": "1b88bada-2aa8-46e5-a4cf-fc0e2b2cbc13",
   "metadata": {},
   "source": [
    "# Затемнение"
   ]
  },
  {
   "cell_type": "code",
   "execution_count": 3,
   "id": "3da5cfcf-ae8e-4fda-8e77-a45a8ded0dab",
   "metadata": {},
   "outputs": [],
   "source": [
    "from PIL import Image, ImageEnhance"
   ]
  },
  {
   "cell_type": "code",
   "execution_count": 63,
   "id": "ebf1b597-d7d3-445c-8d84-268f19951b6e",
   "metadata": {},
   "outputs": [
    {
     "data": {
      "text/plain": [
       "'snap_201202230949405550_豫HD1681_黄_20120223094945_1.jpg'"
      ]
     },
     "execution_count": 63,
     "metadata": {},
     "output_type": "execute_result"
    }
   ],
   "source": [
    "listdir(\"./color/red\")[1010]"
   ]
  },
  {
   "cell_type": "code",
   "execution_count": 102,
   "id": "efa11c85-9e90-4a16-8c07-f0992da87bef",
   "metadata": {},
   "outputs": [
    {
     "name": "stderr",
     "output_type": "stream",
     "text": [
      "100%|██████████████████████████████████████████████████████████████████████████████| 3442/3442 [01:19<00:00, 43.05it/s]\n",
      "100%|██████████████████████████████████████████████████████████████████████████████| 1086/1086 [00:30<00:00, 35.26it/s]\n",
      "100%|████████████████████████████████████████████████████████████████████████████████| 281/281 [00:03<00:00, 85.10it/s]\n",
      "100%|██████████████████████████████████████████████████████████████████████████████| 3046/3046 [00:59<00:00, 51.32it/s]\n",
      "100%|████████████████████████████████████████████████████████████████████████████████| 482/482 [00:16<00:00, 29.35it/s]\n",
      "100%|██████████████████████████████████████████████████████████████████████████████| 1941/1941 [01:07<00:00, 28.91it/s]\n",
      "100%|██████████████████████████████████████████████████████████████████████████████| 4742/4742 [02:01<00:00, 39.10it/s]\n",
      "100%|████████████████████████████████████████████████████████████████████████████████| 581/581 [00:12<00:00, 46.02it/s]\n"
     ]
    }
   ],
   "source": [
    "res = []\n",
    "target = []\n",
    "for color in listdir(\"./color\"):\n",
    "    for im_name in tqdm(listdir(\"./color/\" + color), total = len(listdir(\"./color/\" + color))):\n",
    "        im = Image.open(\"./color/\" + color +\"/\" + im_name)\n",
    "        enhancer = ImageEnhance.Brightness(im)\n",
    "        factor = 0.34 #gives original image \n",
    "        im_output = enhancer.enhance(factor)\n",
    "        enhancer = ImageEnhance.Contrast(im_output)\n",
    "        factor = 4 #gives original image \n",
    "        im_output = enhancer.enhance(factor) \n",
    "        im_output.save(\"./color1/\" + color +\"/\" + im_name)\n",
    "        \n",
    "    "
   ]
  },
  {
   "cell_type": "markdown",
   "id": "8cb519b3-a4d0-4645-a8cd-ee8fcc54d9a0",
   "metadata": {},
   "source": [
    "# Аугментация"
   ]
  },
  {
   "cell_type": "code",
   "execution_count": null,
   "id": "ca9a1d9f-fd0d-4285-a900-9a7ef2f5fb37",
   "metadata": {
    "scrolled": true,
    "tags": []
   },
   "outputs": [],
   "source": [
    "for color in listdir(\"./train\"):\n",
    "        p = Augmentor.Pipeline(\"./train_aug_2/\" + color)\n",
    "        p.rotate(probability=0.7, max_left_rotation=13, max_right_rotation=13)\n",
    "        p.zoom(probability=0.4, min_factor=0.75, max_factor=0.95)\n",
    "        p.flip_left_right(probability=0.55)\n",
    "        p.flip_top_bottom(probability=0.55)\n",
    "        p.skew(probability=0.3)\n",
    "        p.sample(3500 - len(listdir(\"./train_aug_2/\" + color)))"
   ]
  },
  {
   "cell_type": "code",
   "execution_count": 18,
   "id": "3fb6a721-af72-4a17-8fd8-9d4bd88e635c",
   "metadata": {},
   "outputs": [
    {
     "data": {
      "text/plain": [
       "['Black',\n",
       " 'Blue',\n",
       " 'Brown',\n",
       " 'Cyan',\n",
       " 'Green',\n",
       " 'Grey',\n",
       " 'Orange',\n",
       " 'Red',\n",
       " 'Violet',\n",
       " 'White',\n",
       " 'Yellow']"
      ]
     },
     "execution_count": 18,
     "metadata": {},
     "output_type": "execute_result"
    }
   ],
   "source": [
    "listdir(\"./train_aug_2\")"
   ]
  }
 ],
 "metadata": {
  "kernelspec": {
   "display_name": "Python 3 (ipykernel)",
   "language": "python",
   "name": "python3"
  },
  "language_info": {
   "codemirror_mode": {
    "name": "ipython",
    "version": 3
   },
   "file_extension": ".py",
   "mimetype": "text/x-python",
   "name": "python",
   "nbconvert_exporter": "python",
   "pygments_lexer": "ipython3",
   "version": "3.9.13"
  }
 },
 "nbformat": 4,
 "nbformat_minor": 5
}
