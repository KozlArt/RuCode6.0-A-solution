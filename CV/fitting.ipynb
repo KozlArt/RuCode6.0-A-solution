{
 "cells": [
  {
   "cell_type": "code",
   "execution_count": 1,
   "id": "38b3730c",
   "metadata": {},
   "outputs": [
    {
     "name": "stderr",
     "output_type": "stream",
     "text": [
      "C:\\Users\\ozher\\anaconda3\\envs\\myenv\\lib\\site-packages\\tqdm\\auto.py:22: TqdmWarning: IProgress not found. Please update jupyter and ipywidgets. See https://ipywidgets.readthedocs.io/en/stable/user_install.html\n",
      "  from .autonotebook import tqdm as notebook_tqdm\n"
     ]
    }
   ],
   "source": [
    "import os\n",
    "import copy\n",
    "import warnings\n",
    "\n",
    "import torch\n",
    "import random\n",
    "import pandas as pd\n",
    "import numpy  as np\n",
    "import torch.nn as nn\n",
    "from src.processing import *\n",
    "from torchvision import models\n",
    "from torch.utils.data import DataLoader\n",
    "import src.model_fitting as model_fitting\n",
    "\n",
    "warnings.filterwarnings(\"ignore\")\n",
    "\n",
    "SEED = 1234\n",
    "random.seed(SEED)\n",
    "np.random.seed(SEED)\n",
    "torch.manual_seed(SEED)\n",
    "torch.cuda.manual_seed(SEED)\n",
    "torch.backends.cudnn.enabled = False\n",
    "torch.backends.cudnn.deterministic = True"
   ]
  },
  {
   "cell_type": "code",
   "execution_count": 2,
   "id": "cf48fc75",
   "metadata": {},
   "outputs": [],
   "source": [
    "images_amount = check_images_amount()\n",
    "\n",
    "annotations = pd.read_csv(\"annotation_file.csv\")\n",
    "annot_test = pd.read_csv(\"annotation_file_test.csv\").sort_values(by=\"id\")\n",
    "\n",
    "NEW_SIZE, BATCH_SIZE = 224, 32\n",
    "full_train = CarDataset(annotation_file=annotations, img_dir=\"train\", new_size=NEW_SIZE, mode=\"train\")\n",
    "full_train_dataloader = DataLoader(full_train, batch_size=BATCH_SIZE, shuffle=True)\n",
    "\n",
    "test_dataset = CarDataset(annotation_file=annot_test, img_dir=\"public_test\", new_size=NEW_SIZE, mode=\"test\")\n",
    "test_dataloader = DataLoader(test_dataset, batch_size=BATCH_SIZE, shuffle=False)"
   ]
  },
  {
   "cell_type": "code",
   "execution_count": 3,
   "id": "4ec457d3",
   "metadata": {},
   "outputs": [],
   "source": [
    "model = models.resnet18(pretrained=True)\n",
    "model.fc = nn.Linear(512, 11)\n",
    "model = model.cuda()\n",
    "\n",
    "torch.cuda.empty_cache()"
   ]
  },
  {
   "cell_type": "code",
   "execution_count": 4,
   "id": "f51d50b4",
   "metadata": {
    "scrolled": true
   },
   "outputs": [
    {
     "name": "stderr",
     "output_type": "stream",
     "text": [
      "epoch:  10%|████████████████▋                                                                                                                                                      | 1/10 [00:40<06:05, 40.57s/it]"
     ]
    },
    {
     "name": "stdout",
     "output_type": "stream",
     "text": [
      "[0]: tr_loss: 0.47242 tr_f1: 0.83741 \n"
     ]
    },
    {
     "name": "stderr",
     "output_type": "stream",
     "text": [
      "epoch:  20%|█████████████████████████████████▍                                                                                                                                     | 2/10 [01:18<05:11, 38.88s/it]"
     ]
    },
    {
     "name": "stdout",
     "output_type": "stream",
     "text": [
      "[1]: tr_loss: 0.16564 tr_f1: 0.94497 \n"
     ]
    },
    {
     "name": "stderr",
     "output_type": "stream",
     "text": [
      "epoch:  30%|██████████████████████████████████████████████████                                                                                                                     | 3/10 [01:56<04:31, 38.74s/it]"
     ]
    },
    {
     "name": "stdout",
     "output_type": "stream",
     "text": [
      "[2]: tr_loss: 0.09769 tr_f1: 0.96603 \n"
     ]
    },
    {
     "name": "stderr",
     "output_type": "stream",
     "text": [
      "epoch:  40%|██████████████████████████████████████████████████████████████████▊                                                                                                    | 4/10 [02:35<03:51, 38.55s/it]"
     ]
    },
    {
     "name": "stdout",
     "output_type": "stream",
     "text": [
      "[3]: tr_loss: 0.04862 tr_f1: 0.98239 \n"
     ]
    },
    {
     "name": "stderr",
     "output_type": "stream",
     "text": [
      "epoch:  50%|███████████████████████████████████████████████████████████████████████████████████▌                                                                                   | 5/10 [03:13<03:13, 38.66s/it]"
     ]
    },
    {
     "name": "stdout",
     "output_type": "stream",
     "text": [
      "[4]: tr_loss: 0.02639 tr_f1: 0.98986 \n"
     ]
    },
    {
     "name": "stderr",
     "output_type": "stream",
     "text": [
      "epoch:  60%|████████████████████████████████████████████████████████████████████████████████████████████████████▏                                                                  | 6/10 [03:52<02:34, 38.64s/it]"
     ]
    },
    {
     "name": "stdout",
     "output_type": "stream",
     "text": [
      "[5]: tr_loss: 0.01634 tr_f1: 0.99482 \n"
     ]
    },
    {
     "name": "stderr",
     "output_type": "stream",
     "text": [
      "epoch:  70%|████████████████████████████████████████████████████████████████████████████████████████████████████████████████████▉                                                  | 7/10 [04:30<01:55, 38.46s/it]"
     ]
    },
    {
     "name": "stdout",
     "output_type": "stream",
     "text": [
      "[6]: tr_loss: 0.01308 tr_f1: 0.99533 \n"
     ]
    },
    {
     "name": "stderr",
     "output_type": "stream",
     "text": [
      "epoch:  80%|█████████████████████████████████████████████████████████████████████████████████████████████████████████████████████████████████████▌                                 | 8/10 [05:09<01:17, 38.53s/it]"
     ]
    },
    {
     "name": "stdout",
     "output_type": "stream",
     "text": [
      "[7]: tr_loss: 0.01181 tr_f1: 0.99461 \n"
     ]
    },
    {
     "name": "stderr",
     "output_type": "stream",
     "text": [
      "epoch:  90%|██████████████████████████████████████████████████████████████████████████████████████████████████████████████████████████████████████████████████████▎                | 9/10 [05:47<00:38, 38.42s/it]"
     ]
    },
    {
     "name": "stdout",
     "output_type": "stream",
     "text": [
      "[8]: tr_loss: 0.01013 tr_f1: 0.99598 \n"
     ]
    },
    {
     "name": "stderr",
     "output_type": "stream",
     "text": [
      "epoch: 100%|██████████████████████████████████████████████████████████████████████████████████████████████████████████████████████████████████████████████████████████████████████| 10/10 [06:25<00:00, 38.57s/it]"
     ]
    },
    {
     "name": "stdout",
     "output_type": "stream",
     "text": [
      "[9]: tr_loss: 0.00749 tr_f1: 0.99736 \n"
     ]
    },
    {
     "name": "stderr",
     "output_type": "stream",
     "text": [
      "\n"
     ]
    }
   ],
   "source": [
    "fitting_info = model_fitting.train(full_train_dataloader, None, model=model, epochs=10, validate=False)\n",
    "\n",
    "torch.save(copy.deepcopy(model.state_dict()), 'resnet18_fitting_weights.pth')\n",
    "torch.cuda.empty_cache()"
   ]
  },
  {
   "cell_type": "code",
   "execution_count": 5,
   "id": "61c0176f",
   "metadata": {},
   "outputs": [
    {
     "name": "stdout",
     "output_type": "stream",
     "text": [
      "=====SUBMITION DONE=====\n"
     ]
    }
   ],
   "source": [
    "inverse_target_mapping = {path_idx: path for path_idx, path in enumerate(os.listdir(\"train\"))} \n",
    "\n",
    "preds = model_fitting.predict(model, test_dataloader, inverse_target_mapping=inverse_target_mapping)\n",
    "if((len(preds) == images_amount[\"test\"]) and (len(np.unique(preds)) == 11)):\n",
    "    make_submit(\"submit1\", preds)"
   ]
  },
  {
   "cell_type": "markdown",
   "id": "bccd2839",
   "metadata": {},
   "source": [
    "---"
   ]
  }
 ],
 "metadata": {
  "kernelspec": {
   "display_name": "Python 3 (ipykernel)",
   "language": "python",
   "name": "python3"
  },
  "language_info": {
   "codemirror_mode": {
    "name": "ipython",
    "version": 3
   },
   "file_extension": ".py",
   "mimetype": "text/x-python",
   "name": "python",
   "nbconvert_exporter": "python",
   "pygments_lexer": "ipython3",
   "version": "3.9.13"
  },
  "varInspector": {
   "cols": {
    "lenName": 16,
    "lenType": 16,
    "lenVar": 40
   },
   "kernels_config": {
    "python": {
     "delete_cmd_postfix": "",
     "delete_cmd_prefix": "del ",
     "library": "var_list.py",
     "varRefreshCmd": "print(var_dic_list())"
    },
    "r": {
     "delete_cmd_postfix": ") ",
     "delete_cmd_prefix": "rm(",
     "library": "var_list.r",
     "varRefreshCmd": "cat(var_dic_list()) "
    }
   },
   "types_to_exclude": [
    "module",
    "function",
    "builtin_function_or_method",
    "instance",
    "_Feature"
   ],
   "window_display": false
  }
 },
 "nbformat": 4,
 "nbformat_minor": 5
}
