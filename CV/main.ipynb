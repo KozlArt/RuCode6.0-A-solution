{
 "cells": [
  {
   "cell_type": "code",
   "execution_count": 1,
   "id": "b352ce99",
   "metadata": {},
   "outputs": [
    {
     "name": "stderr",
     "output_type": "stream",
     "text": [
      "C:\\Users\\ozher\\anaconda3\\envs\\myenv\\lib\\site-packages\\tqdm\\auto.py:22: TqdmWarning: IProgress not found. Please update jupyter and ipywidgets. See https://ipywidgets.readthedocs.io/en/stable/user_install.html\n",
      "  from .autonotebook import tqdm as notebook_tqdm\n"
     ]
    },
    {
     "name": "stdout",
     "output_type": "stream",
     "text": [
      "Thu Nov  3 18:16:34 2022       \n",
      "+-----------------------------------------------------------------------------+\n",
      "| NVIDIA-SMI 462.62       Driver Version: 462.62       CUDA Version: 11.2     |\n",
      "|-------------------------------+----------------------+----------------------+\n",
      "| GPU  Name            TCC/WDDM | Bus-Id        Disp.A | Volatile Uncorr. ECC |\n",
      "| Fan  Temp  Perf  Pwr:Usage/Cap|         Memory-Usage | GPU-Util  Compute M. |\n",
      "|                               |                      |               MIG M. |\n",
      "|===============================+======================+======================|\n",
      "|   0  GeForce RTX 305... WDDM  | 00000000:01:00.0 Off |                  N/A |\n",
      "| N/A   43C    P0    11W /  N/A |    106MiB /  4096MiB |      0%      Default |\n",
      "|                               |                      |                  N/A |\n",
      "+-------------------------------+----------------------+----------------------+\n",
      "                                                                               \n",
      "+-----------------------------------------------------------------------------+\n",
      "| Processes:                                                                  |\n",
      "|  GPU   GI   CI        PID   Type   Process name                  GPU Memory |\n",
      "|        ID   ID                                                   Usage      |\n",
      "|=============================================================================|\n",
      "|  No running processes found                                                 |\n",
      "+-----------------------------------------------------------------------------+\n"
     ]
    }
   ],
   "source": [
    "import os\n",
    "import copy\n",
    "import warnings\n",
    "\n",
    "import torch\n",
    "import random\n",
    "import pandas as pd\n",
    "import numpy  as np\n",
    "import torch.nn as nn\n",
    "from src.processing import *\n",
    "from torchvision import models\n",
    "from torch.utils.data import DataLoader\n",
    "import src.model_fitting as model_fitting\n",
    "\n",
    "warnings.filterwarnings(\"ignore\")\n",
    "\n",
    "SEED = 1234\n",
    "random.seed(SEED)\n",
    "np.random.seed(SEED)\n",
    "torch.manual_seed(SEED)\n",
    "torch.cuda.manual_seed(SEED)\n",
    "torch.backends.cudnn.deterministic = True\n",
    "\n",
    "!nvidia-smi"
   ]
  },
  {
   "cell_type": "code",
   "execution_count": 2,
   "id": "0ddd00d5",
   "metadata": {},
   "outputs": [
    {
     "name": "stdout",
     "output_type": "stream",
     "text": [
      "{'test': 1436, 'train': 3802}\n"
     ]
    }
   ],
   "source": [
    "images_amount = check_images_amount()\n",
    "print(images_amount)\n",
    "\n",
    "annotations = pd.read_csv(\"annotation_file.csv\")\n",
    "train, valid = train_val_split(annotations)\n",
    "\n",
    "if(not valid.shape[0] + train.shape[0] == images_amount[\"train\"]):\n",
    "    raise ValueError(\"Sum of len(valid) and len(train) is not equal to total amount of train images\")"
   ]
  },
  {
   "cell_type": "code",
   "execution_count": 3,
   "id": "46b230f6",
   "metadata": {},
   "outputs": [],
   "source": [
    "NEW_SIZE, BATCH_SIZE = 224, 64\n",
    "train_dataset = CarDataset(annotation_file=train, img_dir=\"train\", new_size=NEW_SIZE, mode=\"train\")\n",
    "valid_dataset = CarDataset(annotation_file=train, img_dir=\"train\", new_size=NEW_SIZE, mode=\"valid\")\n",
    "\n",
    "train_dataloader = DataLoader(train_dataset, batch_size=BATCH_SIZE, shuffle=True)\n",
    "valid_dataloader = DataLoader(valid_dataset, batch_size=BATCH_SIZE, shuffle=False)"
   ]
  },
  {
   "cell_type": "code",
   "execution_count": 4,
   "id": "9c6f70fa",
   "metadata": {},
   "outputs": [],
   "source": [
    "model_resnet18 = models.resnet18(pretrained=True)\n",
    "model_resnet18.fc = nn.Linear(512, 11)\n",
    "model_resnet18 = model_resnet18.cuda()\n",
    "\n",
    "torch.cuda.empty_cache()"
   ]
  },
  {
   "cell_type": "code",
   "execution_count": 5,
   "id": "370afa51",
   "metadata": {
    "scrolled": true
   },
   "outputs": [
    {
     "name": "stderr",
     "output_type": "stream",
     "text": [
      "epoch:  10%|████████████████▋                                                                                                                                                      | 1/10 [00:49<07:22, 49.14s/it]"
     ]
    },
    {
     "name": "stdout",
     "output_type": "stream",
     "text": [
      "[0]: tr_loss: 0.53157 val_loss: 0.12522            tr_f1: 0.80839 val_f1: 0.9564\n"
     ]
    },
    {
     "name": "stderr",
     "output_type": "stream",
     "text": [
      "epoch:  20%|█████████████████████████████████▍                                                                                                                                     | 2/10 [01:53<07:42, 57.87s/it]"
     ]
    },
    {
     "name": "stdout",
     "output_type": "stream",
     "text": [
      "[1]: tr_loss: 0.38129 val_loss: 0.47789            tr_f1: 0.8541 val_f1: 0.84224\n"
     ]
    },
    {
     "name": "stderr",
     "output_type": "stream",
     "text": [
      "epoch:  30%|██████████████████████████████████████████████████                                                                                                                     | 3/10 [02:56<07:03, 60.52s/it]"
     ]
    },
    {
     "name": "stdout",
     "output_type": "stream",
     "text": [
      "[2]: tr_loss: 0.20402 val_loss: 0.10917            tr_f1: 0.92768 val_f1: 0.96311\n"
     ]
    },
    {
     "name": "stderr",
     "output_type": "stream",
     "text": [
      "epoch:  40%|██████████████████████████████████████████████████████████████████▊                                                                                                    | 4/10 [04:00<06:11, 61.89s/it]"
     ]
    },
    {
     "name": "stdout",
     "output_type": "stream",
     "text": [
      "[3]: tr_loss: 0.10064 val_loss: 0.02849            tr_f1: 0.96526 val_f1: 0.98883\n"
     ]
    },
    {
     "name": "stderr",
     "output_type": "stream",
     "text": [
      "epoch:  50%|███████████████████████████████████████████████████████████████████████████████████▌                                                                                   | 5/10 [05:04<05:12, 62.57s/it]"
     ]
    },
    {
     "name": "stdout",
     "output_type": "stream",
     "text": [
      "[4]: tr_loss: 0.02944 val_loss: 0.01686            tr_f1: 0.98796 val_f1: 0.99315\n"
     ]
    },
    {
     "name": "stderr",
     "output_type": "stream",
     "text": [
      "epoch:  60%|████████████████████████████████████████████████████████████████████████████████████████████████████▏                                                                  | 6/10 [06:08<04:11, 62.98s/it]"
     ]
    },
    {
     "name": "stdout",
     "output_type": "stream",
     "text": [
      "[5]: tr_loss: 0.01805 val_loss: 0.02428            tr_f1: 0.99202 val_f1: 0.98941\n"
     ]
    },
    {
     "name": "stderr",
     "output_type": "stream",
     "text": [
      "epoch:  70%|████████████████████████████████████████████████████████████████████████████████████████████████████████████████████▉                                                  | 7/10 [07:11<03:09, 63.19s/it]"
     ]
    },
    {
     "name": "stdout",
     "output_type": "stream",
     "text": [
      "[6]: tr_loss: 0.01893 val_loss: 0.00632            tr_f1: 0.99372 val_f1: 0.99845\n"
     ]
    },
    {
     "name": "stderr",
     "output_type": "stream",
     "text": [
      "epoch:  80%|█████████████████████████████████████████████████████████████████████████████████████████████████████████████████████████████████████▌                                 | 8/10 [08:15<02:06, 63.31s/it]"
     ]
    },
    {
     "name": "stdout",
     "output_type": "stream",
     "text": [
      "[7]: tr_loss: 0.00704 val_loss: 0.00563            tr_f1: 0.99769 val_f1: 0.99868\n"
     ]
    },
    {
     "name": "stderr",
     "output_type": "stream",
     "text": [
      "epoch:  90%|██████████████████████████████████████████████████████████████████████████████████████████████████████████████████████████████████████████████████████▎                | 9/10 [09:19<01:03, 63.45s/it]"
     ]
    },
    {
     "name": "stdout",
     "output_type": "stream",
     "text": [
      "[8]: tr_loss: 0.00702 val_loss: 0.00402            tr_f1: 0.99741 val_f1: 0.99921\n"
     ]
    },
    {
     "name": "stderr",
     "output_type": "stream",
     "text": [
      "epoch: 100%|██████████████████████████████████████████████████████████████████████████████████████████████████████████████████████████████████████████████████████████████████████| 10/10 [10:22<00:00, 62.29s/it]\n"
     ]
    },
    {
     "name": "stdout",
     "output_type": "stream",
     "text": [
      "[9]: tr_loss: 0.00415 val_loss: 0.0034            tr_f1: 0.99842 val_f1: 0.99921\n"
     ]
    }
   ],
   "source": [
    "fitting_info = model_fitting.train(train_dataloader, valid_dataloader, model=model_resnet18, epochs=10)\n",
    "\n",
    "torch.save(copy.deepcopy(model_resnet18.state_dict()), 'model_resnet18_weights.pth')\n",
    "torch.cuda.empty_cache()"
   ]
  },
  {
   "cell_type": "code",
   "execution_count": 6,
   "id": "f3bff52c",
   "metadata": {},
   "outputs": [
    {
     "name": "stdout",
     "output_type": "stream",
     "text": [
      "=====SUBMITION DONE=====\n"
     ]
    }
   ],
   "source": [
    "inverse_target_mapping = {path_idx: path for path_idx, path in enumerate(os.listdir(\"train\"))} \n",
    "\n",
    "annot_test = pd.read_csv(\"annotation_file_test.csv\").sort_values(by=\"id\")\n",
    "\n",
    "test_dataset = CarDataset(annotation_file=annot_test, img_dir=\"public_test\", new_size=NEW_SIZE, mode=\"test\")\n",
    "test_dataloader = DataLoader(test_dataset, batch_size=BATCH_SIZE, shuffle=False)\n",
    "\n",
    "preds = model_fitting.predict(model_resnet18, test_dataloader, inverse_target_mapping=inverse_target_mapping)\n",
    "if((len(preds) == images_amount[\"test\"]) and (len(np.unique(preds)) == 11)):\n",
    "    make_submit(\"submit\", preds)"
   ]
  },
  {
   "cell_type": "markdown",
   "id": "c217c58b",
   "metadata": {},
   "source": [
    "----"
   ]
  }
 ],
 "metadata": {
  "kernelspec": {
   "display_name": "Python 3 (ipykernel)",
   "language": "python",
   "name": "python3"
  },
  "language_info": {
   "codemirror_mode": {
    "name": "ipython",
    "version": 3
   },
   "file_extension": ".py",
   "mimetype": "text/x-python",
   "name": "python",
   "nbconvert_exporter": "python",
   "pygments_lexer": "ipython3",
   "version": "3.9.13"
  },
  "varInspector": {
   "cols": {
    "lenName": 16,
    "lenType": 16,
    "lenVar": 40
   },
   "kernels_config": {
    "python": {
     "delete_cmd_postfix": "",
     "delete_cmd_prefix": "del ",
     "library": "var_list.py",
     "varRefreshCmd": "print(var_dic_list())"
    },
    "r": {
     "delete_cmd_postfix": ") ",
     "delete_cmd_prefix": "rm(",
     "library": "var_list.r",
     "varRefreshCmd": "cat(var_dic_list()) "
    }
   },
   "position": {
    "height": "144.85px",
    "left": "847.2px",
    "right": "20px",
    "top": "214px",
    "width": "350px"
   },
   "types_to_exclude": [
    "module",
    "function",
    "builtin_function_or_method",
    "instance",
    "_Feature"
   ],
   "window_display": false
  }
 },
 "nbformat": 4,
 "nbformat_minor": 5
}
